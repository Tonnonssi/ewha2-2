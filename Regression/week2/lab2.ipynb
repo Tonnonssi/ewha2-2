{
 "cells": [
  {
   "cell_type": "code",
   "execution_count": 2,
   "id": "00d9665b",
   "metadata": {},
   "outputs": [],
   "source": [
    "import pandas as pd\n",
    "import numpy as np\n",
    "import matplotlib.pyplot as plt\n",
    "import scipy.stats as stats\n",
    "from sklearn.linear_model import LinearRegression\n",
    "import statsmodels.api as sm\n",
    "import seaborn as sns\n",
    "import os\n",
    "import re"
   ]
  },
  {
   "cell_type": "markdown",
   "id": "6cc5603b",
   "metadata": {},
   "source": [
    "### The dataset spaghetti.txt contains the weight (in oz) of 20 spaghetti boxes of a famous pasta brand."
   ]
  },
  {
   "cell_type": "code",
   "execution_count": 2,
   "id": "af29f9d3",
   "metadata": {},
   "outputs": [
    {
     "data": {
      "text/plain": [
       "'/Users/jimin/Desktop/데스크탑 - 이지민의 MacBook\\xa0Air/지민/ewha/2023-2/Regression/week2'"
      ]
     },
     "execution_count": 2,
     "metadata": {},
     "output_type": "execute_result"
    }
   ],
   "source": [
    "os.getcwd() # check current location"
   ]
  },
  {
   "cell_type": "markdown",
   "id": "6615f8e9",
   "metadata": {},
   "source": [
    "txt 파일의 구조가 \"\"안에 인덱스가 들어있고, 공백도 없이 값이 쭉 이어지는 형태라 pd.readtable()가 제대로 값을 불러오지 못한다. 따라서 정규표현식을 통해 이 문제점을 해결한다. "
   ]
  },
  {
   "cell_type": "code",
   "execution_count": 3,
   "id": "8b953927",
   "metadata": {},
   "outputs": [],
   "source": [
    "with open('spaghetti.txt', 'r') as file:\n",
    "    lines = file.readlines() # ['\"spaghetti\"\\n','\"1\"15.3133500408265\\n',\n",
    "    \n",
    "indices = []\n",
    "elements = []\n",
    "\n",
    "for line in lines:\n",
    "    match = re.match(r'\"(\\d+)\"([\\d.]+)', line)\n",
    "    if match:\n",
    "        index = int(match.group(1))\n",
    "        element = float(match.group(2))\n",
    "        indices.append(index)\n",
    "        elements.append(element)"
   ]
  },
  {
   "cell_type": "code",
   "execution_count": 4,
   "id": "efe25d3b",
   "metadata": {},
   "outputs": [
    {
     "data": {
      "text/html": [
       "<div>\n",
       "<style scoped>\n",
       "    .dataframe tbody tr th:only-of-type {\n",
       "        vertical-align: middle;\n",
       "    }\n",
       "\n",
       "    .dataframe tbody tr th {\n",
       "        vertical-align: top;\n",
       "    }\n",
       "\n",
       "    .dataframe thead th {\n",
       "        text-align: right;\n",
       "    }\n",
       "</style>\n",
       "<table border=\"1\" class=\"dataframe\">\n",
       "  <thead>\n",
       "    <tr style=\"text-align: right;\">\n",
       "      <th></th>\n",
       "      <th>spaghetti</th>\n",
       "    </tr>\n",
       "  </thead>\n",
       "  <tbody>\n",
       "    <tr>\n",
       "      <th>0</th>\n",
       "      <td>15.313350</td>\n",
       "    </tr>\n",
       "    <tr>\n",
       "      <th>1</th>\n",
       "      <td>15.283792</td>\n",
       "    </tr>\n",
       "    <tr>\n",
       "      <th>2</th>\n",
       "      <td>15.905021</td>\n",
       "    </tr>\n",
       "    <tr>\n",
       "      <th>3</th>\n",
       "      <td>16.751270</td>\n",
       "    </tr>\n",
       "    <tr>\n",
       "      <th>4</th>\n",
       "      <td>15.893500</td>\n",
       "    </tr>\n",
       "  </tbody>\n",
       "</table>\n",
       "</div>"
      ],
      "text/plain": [
       "   spaghetti\n",
       "0  15.313350\n",
       "1  15.283792\n",
       "2  15.905021\n",
       "3  16.751270\n",
       "4  15.893500"
      ]
     },
     "execution_count": 4,
     "metadata": {},
     "output_type": "execute_result"
    }
   ],
   "source": [
    "data_1 = pd.DataFrame({'spaghetti' : elements})\n",
    "data_1.head(5)"
   ]
  },
  {
   "cell_type": "markdown",
   "id": "64efc7e6",
   "metadata": {},
   "source": [
    "### A consumers' association would like to sue the company, affirming that the mean box weight is lower than the nominal one (16 oz). To be sure about their statement, they ask you to perform a suitable test with level 1%.\n",
    "\n",
    "#### First compute the sample mean and the standard deviation of the box weight."
   ]
  },
  {
   "cell_type": "code",
   "execution_count": 5,
   "id": "e8223e3d",
   "metadata": {},
   "outputs": [
    {
     "data": {
      "text/plain": [
       "count    20.000000\n",
       "mean     15.489846\n",
       "std       0.882175\n",
       "min      14.041929\n",
       "25%      14.867575\n",
       "50%      15.458736\n",
       "75%      16.143848\n",
       "max      16.950836\n",
       "Name: spaghetti, dtype: float64"
      ]
     },
     "execution_count": 5,
     "metadata": {},
     "output_type": "execute_result"
    }
   ],
   "source": [
    "data_1['spaghetti'].describe()"
   ]
  },
  {
   "cell_type": "code",
   "execution_count": 7,
   "id": "63fb9fba",
   "metadata": {},
   "outputs": [
    {
     "name": "stdout",
     "output_type": "stream",
     "text": [
      "mean : 15.489845631427375\n",
      "std : 0.8821747119189167\n"
     ]
    }
   ],
   "source": [
    "mean_spa = data_1['spaghetti'].mean()\n",
    "std_spa = data_1['spaghetti'].std()\n",
    "\n",
    "print(f'mean : {mean_spa}')\n",
    "print(f'std : {std_spa}')"
   ]
  },
  {
   "cell_type": "markdown",
   "id": "2c3a8af9",
   "metadata": {},
   "source": [
    "#### Perform the test for the consumers' association.\n",
    "\n",
    "##### What is your null hypothesis H0?\n",
    "\n",
    "H0 : M = 16\n",
    "\n",
    "##### What is your alternative hypothesis H1?\n",
    "\n",
    "H1 : M < 16\n",
    "\n",
    "##### What distribution can you assume for the test statistic (type of distribution and parameters), and why?"
   ]
  },
  {
   "cell_type": "code",
   "execution_count": 8,
   "id": "ce8e0611",
   "metadata": {},
   "outputs": [
    {
     "data": {
      "image/png": "[encoded data removed]",
      "text/plain": [
       "<Figure size 432x288 with 1 Axes>"
      ]
     },
     "metadata": {
      "needs_background": "light"
     },
     "output_type": "display_data"
    }
   ],
   "source": [
    "plt.hist(data_1['spaghetti'], color='orange')\n",
    "plt.title('weight of spaghetti box')\n",
    "plt.show()"
   ]
  },
  {
   "cell_type": "markdown",
   "id": "2f38780b",
   "metadata": {},
   "source": [
    "##### Compute the test statistic."
   ]
  },
  {
   "cell_type": "code",
   "execution_count": 9,
   "id": "f30ae913",
   "metadata": {},
   "outputs": [
    {
     "data": {
      "text/plain": [
       "-2.58619938144797"
      ]
     },
     "execution_count": 9,
     "metadata": {},
     "output_type": "execute_result"
    }
   ],
   "source": [
    "def cal_TestStatistic(mean_hat, mu, s, n):\n",
    "    return ((mean_hat - float(mu)) / (s / np.sqrt(float(n))))\n",
    "\n",
    "t = cal_TestStatistic(mean_spa, 16, std_spa, data_1.count())\n",
    "t"
   ]
  },
  {
   "cell_type": "markdown",
   "id": "d62c88b5",
   "metadata": {},
   "source": [
    "##### Compute the test p-value."
   ]
  },
  {
   "cell_type": "code",
   "execution_count": 10,
   "id": "d2913283",
   "metadata": {},
   "outputs": [
    {
     "data": {
      "text/plain": [
       "0.009055174905033336"
      ]
     },
     "execution_count": 10,
     "metadata": {},
     "output_type": "execute_result"
    }
   ],
   "source": [
    "tstat, pval = stats.ttest_1samp(data_1['spaghetti'], popmean=16, alternative='less')\n",
    "pval"
   ]
  },
  {
   "cell_type": "markdown",
   "id": "adcc00b5",
   "metadata": {},
   "source": [
    "##### Do you reject the null hypothesis, at significance level 1%? \n",
    "Yes, since p_value is <1%\n",
    "\n",
    "##### Compute the 99% two-sided confidence interval for the mean of the box weight."
   ]
  },
  {
   "cell_type": "code",
   "execution_count": 11,
   "id": "fbea26e4",
   "metadata": {},
   "outputs": [
    {
     "data": {
      "text/plain": [
       "(14.925496920283585, 16.054194342571165)"
      ]
     },
     "execution_count": 11,
     "metadata": {},
     "output_type": "execute_result"
    }
   ],
   "source": [
    "std_sample = stats.sem(data_1['spaghetti']) # 중요, 표준오차를 계산해준다. \n",
    "stats.t.interval(alpha=0.99, df=data_1['spaghetti'].shape[0]-1, loc=mean_spa, scale=std_sample) # 신뢰구간을 구하는 코드"
   ]
  },
  {
   "cell_type": "markdown",
   "id": "a48d8784",
   "metadata": {},
   "source": [
    "### Consider again the dataset record.txt that you used for Lab 1. This dataset contains running records obtained from athletes from different countries in various types of athletics events (sprints and middle-distance).\n",
    "\n",
    "We have data about 55 countries (observations) and 6 records (variables): 100 meters, 200 meters, 400 meters, 800 meters, 1500 meters and 3000 meters.\n",
    "\n",
    "#### Load the dataset record.txt in R, using the function read.table (remember to set sep=' ')"
   ]
  },
  {
   "cell_type": "code",
   "execution_count": 12,
   "id": "9a7a9b99",
   "metadata": {},
   "outputs": [
    {
     "data": {
      "text/html": [
       "<div>\n",
       "<style scoped>\n",
       "    .dataframe tbody tr th:only-of-type {\n",
       "        vertical-align: middle;\n",
       "    }\n",
       "\n",
       "    .dataframe tbody tr th {\n",
       "        vertical-align: top;\n",
       "    }\n",
       "\n",
       "    .dataframe thead th {\n",
       "        text-align: right;\n",
       "    }\n",
       "</style>\n",
       "<table border=\"1\" class=\"dataframe\">\n",
       "  <thead>\n",
       "    <tr style=\"text-align: right;\">\n",
       "      <th></th>\n",
       "      <th>m100</th>\n",
       "      <th>m200</th>\n",
       "      <th>m400</th>\n",
       "      <th>m800</th>\n",
       "      <th>m1500</th>\n",
       "      <th>m3000</th>\n",
       "    </tr>\n",
       "  </thead>\n",
       "  <tbody>\n",
       "    <tr>\n",
       "      <th>argentin</th>\n",
       "      <td>11.61</td>\n",
       "      <td>22.94</td>\n",
       "      <td>54.50</td>\n",
       "      <td>129.0</td>\n",
       "      <td>265.8</td>\n",
       "      <td>587.4</td>\n",
       "    </tr>\n",
       "    <tr>\n",
       "      <th>australi</th>\n",
       "      <td>11.20</td>\n",
       "      <td>22.35</td>\n",
       "      <td>51.08</td>\n",
       "      <td>118.8</td>\n",
       "      <td>247.8</td>\n",
       "      <td>544.8</td>\n",
       "    </tr>\n",
       "    <tr>\n",
       "      <th>austria</th>\n",
       "      <td>11.43</td>\n",
       "      <td>23.09</td>\n",
       "      <td>50.62</td>\n",
       "      <td>119.4</td>\n",
       "      <td>253.2</td>\n",
       "      <td>560.4</td>\n",
       "    </tr>\n",
       "    <tr>\n",
       "      <th>belgium</th>\n",
       "      <td>11.41</td>\n",
       "      <td>23.04</td>\n",
       "      <td>52.00</td>\n",
       "      <td>120.0</td>\n",
       "      <td>248.4</td>\n",
       "      <td>532.8</td>\n",
       "    </tr>\n",
       "    <tr>\n",
       "      <th>bermuda</th>\n",
       "      <td>11.46</td>\n",
       "      <td>23.05</td>\n",
       "      <td>53.30</td>\n",
       "      <td>129.6</td>\n",
       "      <td>274.8</td>\n",
       "      <td>588.6</td>\n",
       "    </tr>\n",
       "    <tr>\n",
       "      <th>brazil</th>\n",
       "      <td>11.31</td>\n",
       "      <td>23.17</td>\n",
       "      <td>52.80</td>\n",
       "      <td>126.0</td>\n",
       "      <td>269.4</td>\n",
       "      <td>586.2</td>\n",
       "    </tr>\n",
       "    <tr>\n",
       "      <th>burma</th>\n",
       "      <td>12.14</td>\n",
       "      <td>24.47</td>\n",
       "      <td>55.00</td>\n",
       "      <td>130.8</td>\n",
       "      <td>267.0</td>\n",
       "      <td>570.6</td>\n",
       "    </tr>\n",
       "    <tr>\n",
       "      <th>canada</th>\n",
       "      <td>11.00</td>\n",
       "      <td>22.25</td>\n",
       "      <td>50.06</td>\n",
       "      <td>120.0</td>\n",
       "      <td>243.6</td>\n",
       "      <td>528.6</td>\n",
       "    </tr>\n",
       "    <tr>\n",
       "      <th>chile</th>\n",
       "      <td>12.00</td>\n",
       "      <td>24.52</td>\n",
       "      <td>54.90</td>\n",
       "      <td>123.0</td>\n",
       "      <td>253.8</td>\n",
       "      <td>562.2</td>\n",
       "    </tr>\n",
       "    <tr>\n",
       "      <th>china</th>\n",
       "      <td>11.95</td>\n",
       "      <td>24.41</td>\n",
       "      <td>54.97</td>\n",
       "      <td>124.8</td>\n",
       "      <td>259.8</td>\n",
       "      <td>558.6</td>\n",
       "    </tr>\n",
       "  </tbody>\n",
       "</table>\n",
       "</div>"
      ],
      "text/plain": [
       "           m100   m200   m400   m800  m1500  m3000\n",
       "argentin  11.61  22.94  54.50  129.0  265.8  587.4\n",
       "australi  11.20  22.35  51.08  118.8  247.8  544.8\n",
       "austria   11.43  23.09  50.62  119.4  253.2  560.4\n",
       "belgium   11.41  23.04  52.00  120.0  248.4  532.8\n",
       "bermuda   11.46  23.05  53.30  129.6  274.8  588.6\n",
       "brazil    11.31  23.17  52.80  126.0  269.4  586.2\n",
       "burma     12.14  24.47  55.00  130.8  267.0  570.6\n",
       "canada    11.00  22.25  50.06  120.0  243.6  528.6\n",
       "chile     12.00  24.52  54.90  123.0  253.8  562.2\n",
       "china     11.95  24.41  54.97  124.8  259.8  558.6"
      ]
     },
     "execution_count": 12,
     "metadata": {},
     "output_type": "execute_result"
    }
   ],
   "source": [
    "data_2 = pd.read_table('record.txt', sep='\\s+')\n",
    "data_2.head(10)"
   ]
  },
  {
   "cell_type": "markdown",
   "id": "92079e11",
   "metadata": {},
   "source": [
    "#### Draw a scatterplot and compute the correlation for all pairs of variables in the dataset. Interpret the results you obtained: what can you observe about the relationship among the variables?"
   ]
  },
  {
   "cell_type": "code",
   "execution_count": 11,
   "id": "f548930a",
   "metadata": {},
   "outputs": [
    {
     "data": {
      "image/png": "[encoded data removed]",
      "text/plain": [
       "<Figure size 1080x1080 with 42 Axes>"
      ]
     },
     "metadata": {
      "needs_background": "light"
     },
     "output_type": "display_data"
    }
   ],
   "source": [
    "sns.pairplot(data_2)\n",
    "plt.show()"
   ]
  },
  {
   "cell_type": "code",
   "execution_count": 15,
   "id": "3ded2207",
   "metadata": {},
   "outputs": [
    {
     "data": {
      "text/html": [
       "<div>\n",
       "<style scoped>\n",
       "    .dataframe tbody tr th:only-of-type {\n",
       "        vertical-align: middle;\n",
       "    }\n",
       "\n",
       "    .dataframe tbody tr th {\n",
       "        vertical-align: top;\n",
       "    }\n",
       "\n",
       "    .dataframe thead th {\n",
       "        text-align: right;\n",
       "    }\n",
       "</style>\n",
       "<table border=\"1\" class=\"dataframe\">\n",
       "  <thead>\n",
       "    <tr style=\"text-align: right;\">\n",
       "      <th></th>\n",
       "      <th>m100</th>\n",
       "      <th>m200</th>\n",
       "      <th>m400</th>\n",
       "      <th>m800</th>\n",
       "      <th>m1500</th>\n",
       "      <th>m3000</th>\n",
       "    </tr>\n",
       "  </thead>\n",
       "  <tbody>\n",
       "    <tr>\n",
       "      <th>m100</th>\n",
       "      <td>1.000000</td>\n",
       "      <td>0.952791</td>\n",
       "      <td>0.834692</td>\n",
       "      <td>0.727689</td>\n",
       "      <td>0.728371</td>\n",
       "      <td>0.741699</td>\n",
       "    </tr>\n",
       "    <tr>\n",
       "      <th>m200</th>\n",
       "      <td>0.952791</td>\n",
       "      <td>1.000000</td>\n",
       "      <td>0.856962</td>\n",
       "      <td>0.724060</td>\n",
       "      <td>0.698364</td>\n",
       "      <td>0.709871</td>\n",
       "    </tr>\n",
       "    <tr>\n",
       "      <th>m400</th>\n",
       "      <td>0.834692</td>\n",
       "      <td>0.856962</td>\n",
       "      <td>1.000000</td>\n",
       "      <td>0.898405</td>\n",
       "      <td>0.787842</td>\n",
       "      <td>0.777637</td>\n",
       "    </tr>\n",
       "    <tr>\n",
       "      <th>m800</th>\n",
       "      <td>0.727689</td>\n",
       "      <td>0.724060</td>\n",
       "      <td>0.898405</td>\n",
       "      <td>1.000000</td>\n",
       "      <td>0.901614</td>\n",
       "      <td>0.863565</td>\n",
       "    </tr>\n",
       "    <tr>\n",
       "      <th>m1500</th>\n",
       "      <td>0.728371</td>\n",
       "      <td>0.698364</td>\n",
       "      <td>0.787842</td>\n",
       "      <td>0.901614</td>\n",
       "      <td>1.000000</td>\n",
       "      <td>0.969169</td>\n",
       "    </tr>\n",
       "    <tr>\n",
       "      <th>m3000</th>\n",
       "      <td>0.741699</td>\n",
       "      <td>0.709871</td>\n",
       "      <td>0.777637</td>\n",
       "      <td>0.863565</td>\n",
       "      <td>0.969169</td>\n",
       "      <td>1.000000</td>\n",
       "    </tr>\n",
       "  </tbody>\n",
       "</table>\n",
       "</div>"
      ],
      "text/plain": [
       "           m100      m200      m400      m800     m1500     m3000\n",
       "m100   1.000000  0.952791  0.834692  0.727689  0.728371  0.741699\n",
       "m200   0.952791  1.000000  0.856962  0.724060  0.698364  0.709871\n",
       "m400   0.834692  0.856962  1.000000  0.898405  0.787842  0.777637\n",
       "m800   0.727689  0.724060  0.898405  1.000000  0.901614  0.863565\n",
       "m1500  0.728371  0.698364  0.787842  0.901614  1.000000  0.969169\n",
       "m3000  0.741699  0.709871  0.777637  0.863565  0.969169  1.000000"
      ]
     },
     "execution_count": 15,
     "metadata": {},
     "output_type": "execute_result"
    }
   ],
   "source": [
    "corr_df = data_2.corr()\n",
    "corr_df"
   ]
  },
  {
   "cell_type": "markdown",
   "id": "dc4e65ec",
   "metadata": {},
   "source": [
    "### Consider the variables m100 and m400.\n",
    "\n",
    "#### Using the equations(not lm function or matrix equation in r), compute the least square estimators for the coefficients of a single linear regression model, with response m100 and predictor m400. How do you interpret the slope or the regression line?"
   ]
  },
  {
   "cell_type": "code",
   "execution_count": 12,
   "id": "7e177bf6",
   "metadata": {},
   "outputs": [],
   "source": [
    "x = np.array(data_2['m100']).reshape(-1,1) # x.shape = (55,1)\n",
    "y = np.array(data_2['m400']).reshape(-1,1) # y.shape = (55,1)"
   ]
  },
  {
   "cell_type": "code",
   "execution_count": 13,
   "id": "f3227ae3",
   "metadata": {},
   "outputs": [
    {
     "name": "stdout",
     "output_type": "stream",
     "text": [
      "b0 :  -4.0326275398140865\n",
      "b1 :  4.943686449077924\n"
     ]
    }
   ],
   "source": [
    "b1 = np.sum((y- np.mean(y))*(x-np.mean(x))) / np.sum((x-np.mean(x))**2)\n",
    "b0 = np.mean(y) - np.mean(x)*b1\n",
    "\n",
    "print('b0 : ',b0)\n",
    "print('b1 : ',b1)"
   ]
  },
  {
   "cell_type": "markdown",
   "id": "868563c4",
   "metadata": {},
   "source": [
    "The slope of regression line is 4.94. This slope line means that an increase of 1 sec in the m100 record corresponds to an increase of 4.94 sec in th"
   ]
  },
  {
   "cell_type": "markdown",
   "id": "23d844b4",
   "metadata": {},
   "source": [
    "#### Produce a scatter plot for m100 vs m400 with the fitted regression line superimposed."
   ]
  },
  {
   "cell_type": "code",
   "execution_count": 14,
   "id": "7b1d8c56",
   "metadata": {},
   "outputs": [
    {
     "data": {
      "image/png": "[encoded data removed]",
      "text/plain": [
       "<Figure size 360x360 with 1 Axes>"
      ]
     },
     "metadata": {
      "needs_background": "light"
     },
     "output_type": "display_data"
    }
   ],
   "source": [
    "sns.lmplot(data=data_2, x='m100', y='m400')\n",
    "plt.title(\"Regression Line and Scatter\")\n",
    "plt.show()"
   ]
  },
  {
   "cell_type": "markdown",
   "id": "a36bd57f",
   "metadata": {},
   "source": [
    "#### Re-compute the least square estimators of beta0 and beta1 using the matrix equation."
   ]
  },
  {
   "cell_type": "code",
   "execution_count": 15,
   "id": "c6dbded2",
   "metadata": {},
   "outputs": [
    {
     "data": {
      "text/plain": [
       "array([[-4.03262754],\n",
       "       [ 4.94368645]])"
      ]
     },
     "execution_count": 15,
     "metadata": {},
     "output_type": "execute_result"
    }
   ],
   "source": [
    "def cal_beta(x,y):\n",
    "    '''\n",
    "    b matrix를 구하는 함수\n",
    "    위부터 b0, b1, ... \n",
    "    '''\n",
    "    mat_x = np.hstack((np.ones(x.shape), x))\n",
    "    return np.linalg.inv(mat_x.T@mat_x)@mat_x.T@y \n",
    "\n",
    "cal_beta(x,y) # 위부터 b0, b1"
   ]
  },
  {
   "cell_type": "markdown",
   "id": "ec859aca",
   "metadata": {},
   "source": [
    "#### Re-compute the least square estimators of beta0 and beta1 using the R function lm, and visualize the summary of the regression."
   ]
  },
  {
   "cell_type": "code",
   "execution_count": 16,
   "id": "4e429fae",
   "metadata": {},
   "outputs": [
    {
     "data": {
      "text/plain": [
       "array([[-4.03262754],\n",
       "       [ 4.94368645]])"
      ]
     },
     "execution_count": 16,
     "metadata": {},
     "output_type": "execute_result"
    }
   ],
   "source": [
    "# from sklearn.linear_model import LinearRegression\n",
    "\n",
    "lr = LinearRegression()\n",
    "lr.fit(x, y)\n",
    "cof = lr.coef_\n",
    "intercept = lr.intercept_\n",
    "\n",
    "beta = np.vstack((intercept, cof)) # intercept : 절편, 다시 말해 b0, cof : b1 부터 베타의 값\n",
    "beta"
   ]
  },
  {
   "cell_type": "code",
   "execution_count": 18,
   "id": "2b87850b",
   "metadata": {},
   "outputs": [
    {
     "name": "stdout",
     "output_type": "stream",
     "text": [
      "                                 OLS Regression Results                                \n",
      "=======================================================================================\n",
      "Dep. Variable:                      y   R-squared (uncentered):                   0.999\n",
      "Model:                            OLS   Adj. R-squared (uncentered):              0.999\n",
      "Method:                 Least Squares   F-statistic:                          7.142e+04\n",
      "Date:                Thu, 21 Sep 2023   Prob (F-statistic):                    5.58e-86\n",
      "Time:                        02:05:13   Log-Likelihood:                         -99.223\n",
      "No. Observations:                  55   AIC:                                      200.4\n",
      "Df Residuals:                      54   BIC:                                      202.5\n",
      "Df Model:                           1                                                  \n",
      "Covariance Type:            nonrobust                                                  \n",
      "==============================================================================\n",
      "                 coef    std err          t      P>|t|      [0.025      0.975]\n",
      "------------------------------------------------------------------------------\n",
      "x1             4.5971      0.017    267.243      0.000       4.563       4.632\n",
      "==============================================================================\n",
      "Omnibus:                        7.121   Durbin-Watson:                   2.304\n",
      "Prob(Omnibus):                  0.028   Jarque-Bera (JB):                9.940\n",
      "Skew:                          -0.336   Prob(JB):                      0.00694\n",
      "Kurtosis:                       4.971   Cond. No.                         1.00\n",
      "==============================================================================\n",
      "\n",
      "Notes:\n",
      "[1] R² is computed without centering (uncentered) since the model does not contain a constant.\n",
      "[2] Standard Errors assume that the covariance matrix of the errors is correctly specified.\n"
     ]
    }
   ],
   "source": [
    "# summary를 출력해주는 클래스 만들기 (추가과제)\n",
    "results = sm.OLS(y, x).fit()\n",
    "print(results.summary())"
   ]
  },
  {
   "cell_type": "markdown",
   "id": "f780bc4a",
   "metadata": {},
   "source": [
    "#### Which are n and p for the considered regression model?\n",
    "\n",
    "n : total num of observations\n",
    "p : total num of parameters\n",
    "\n",
    "#### Compute the fitted values and the residuals, using the estimated regression line."
   ]
  },
  {
   "cell_type": "code",
   "execution_count": 21,
   "id": "344d696d",
   "metadata": {},
   "outputs": [
    {
     "data": {
      "text/plain": [
       "array([[53.36357213],\n",
       "       [51.33666069],\n",
       "       [52.47370857],\n",
       "       [52.37483484],\n",
       "       [52.62201917],\n",
       "       [51.8804662 ],\n",
       "       [55.98372595],\n",
       "       [50.3479234 ],\n",
       "       [55.29160985],\n",
       "       [55.04442553]])"
      ]
     },
     "execution_count": 21,
     "metadata": {},
     "output_type": "execute_result"
    }
   ],
   "source": [
    "# the fitted values\n",
    "fitted_values = lr.predict(x)\n",
    "fitted_values[:10]"
   ]
  },
  {
   "cell_type": "code",
   "execution_count": 23,
   "id": "a6db0219",
   "metadata": {},
   "outputs": [
    {
     "data": {
      "text/plain": [
       "array([[ 1.13642787],\n",
       "       [-0.25666069],\n",
       "       [-1.85370857],\n",
       "       [-0.37483484],\n",
       "       [ 0.67798083],\n",
       "       [ 0.9195338 ],\n",
       "       [-0.98372595],\n",
       "       [-0.2879234 ],\n",
       "       [-0.39160985],\n",
       "       [-0.07442553]])"
      ]
     },
     "execution_count": 23,
     "metadata": {},
     "output_type": "execute_result"
    }
   ],
   "source": [
    "residuals = y - fitted_values\n",
    "residuals[:10]"
   ]
  },
  {
   "cell_type": "markdown",
   "id": "7b8dcfc5",
   "metadata": {},
   "source": [
    "#### Consider the 25th and 75th percentiles of the variable m100 on the dataset.Use the estimated regression line to estimate the fitted value of the variable m100 at each of these two percentiles."
   ]
  },
  {
   "cell_type": "markdown",
   "id": "d828c195",
   "metadata": {},
   "source": [
    "percentile vs quantitle"
   ]
  },
  {
   "cell_type": "code",
   "execution_count": 57,
   "id": "3c465b86",
   "metadata": {},
   "outputs": [
    {
     "data": {
      "text/plain": [
       "array([[11.27],\n",
       "       [11.92]])"
      ]
     },
     "execution_count": 57,
     "metadata": {},
     "output_type": "execute_result"
    }
   ],
   "source": [
    "m100_25 = np.quantile(a=x, q=0.25)\n",
    "m100_75 = np.quantile(a=x, q=0.75)\n",
    "\n",
    "percent_vec = np.vstack((m100_25, m100_75))\n",
    "percent_vec"
   ]
  },
  {
   "cell_type": "code",
   "execution_count": 58,
   "id": "76c9c3a3",
   "metadata": {},
   "outputs": [
    {
     "data": {
      "text/plain": [
       "array([[51.68271874],\n",
       "       [54.89611493]])"
      ]
     },
     "execution_count": 58,
     "metadata": {},
     "output_type": "execute_result"
    }
   ],
   "source": [
    "lr.predict(percent_vec)"
   ]
  }
 ],
 "metadata": {
  "kernelspec": {
   "display_name": "Python 3 (ipykernel)",
   "language": "python",
   "name": "python3"
  },
  "language_info": {
   "codemirror_mode": {
    "name": "ipython",
    "version": 3
   },
   "file_extension": ".py",
   "mimetype": "text/x-python",
   "name": "python",
   "nbconvert_exporter": "python",
   "pygments_lexer": "ipython3",
   "version": "3.9.7"
  }
 },
 "nbformat": 4,
 "nbformat_minor": 5
}
