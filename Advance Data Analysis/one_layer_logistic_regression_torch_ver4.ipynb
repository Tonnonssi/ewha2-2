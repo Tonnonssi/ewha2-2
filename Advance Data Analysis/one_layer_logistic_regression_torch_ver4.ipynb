{
 "cells": [
  {
   "cell_type": "code",
   "execution_count": null,
   "id": "209f19e7",
   "metadata": {
    "id": "209f19e7"
   },
   "outputs": [],
   "source": [
    "import torch\n",
    "import torch.nn as nn\n",
    "import torch.nn.functional as F\n",
    "\n",
    "import numpy as np\n",
    "import matplotlib.pyplot as plt"
   ]
  },
  {
   "cell_type": "code",
   "execution_count": null,
   "id": "8bd1761d",
   "metadata": {
    "id": "8bd1761d",
    "outputId": "33a63488-23cd-44b1-d893-bde91526ea9b"
   },
   "outputs": [
    {
     "name": "stdout",
     "output_type": "stream",
     "text": [
      "torch.Size([1000, 3])\n"
     ]
    }
   ],
   "source": [
    "# logistic regression\n",
    "\n",
    "num_sample = 500\n",
    "\n",
    "data0 = np.random.randn(num_sample,2) + (2,2)\n",
    "data1 = np.random.randn(num_sample,2) + (-2,-2)\n",
    "\n",
    "data0 = np.hstack([data0,np.zeros((num_sample,1),dtype=float)])\n",
    "data1 = np.hstack([data1,np.ones((num_sample,1),dtype=float)])\n",
    "\n",
    "data = np.vstack([data0,data1])\n",
    "# (x1, x2, 0/1)\n",
    "\n",
    "data = torch.tensor(data,dtype=torch.float32)\n",
    "print(data.shape)"
   ]
  },
  {
   "cell_type": "code",
   "execution_count": null,
   "id": "08daa2eb",
   "metadata": {
    "id": "08daa2eb"
   },
   "outputs": [],
   "source": [
    "class LogisticRegression(nn.Module):\n",
    "    def __init__(self):\n",
    "        super().__init__()\n",
    "\n",
    "        self.linear1 = nn.Linear(2, 1)\n",
    "\n",
    "    def forward(self,x):\n",
    "\n",
    "        logit = self.linear1(x)\n",
    "        output = F.sigmoid(-logit)\n",
    "\n",
    "        return output"
   ]
  },
  {
   "cell_type": "code",
   "execution_count": null,
   "id": "77ffdba9",
   "metadata": {
    "id": "77ffdba9"
   },
   "outputs": [],
   "source": [
    "model = LogisticRegression()\n",
    "loss = nn.BCELoss()\n",
    "#loss = nn.BCEWithLogitsLoss()\n",
    "optimizer = torch.optim.SGD(model.parameters(), lr=1e-5)"
   ]
  },
  {
   "cell_type": "code",
   "execution_count": null,
   "id": "35771e90",
   "metadata": {
    "id": "35771e90"
   },
   "outputs": [],
   "source": [
    "num_epoch = 100\n",
    "loss_list = list()"
   ]
  },
  {
   "cell_type": "code",
   "execution_count": null,
   "id": "99887e8a",
   "metadata": {
    "id": "99887e8a",
    "outputId": "25a6d025-6347-4612-f062-eb197474f39f"
   },
   "outputs": [
    {
     "name": "stdout",
     "output_type": "stream",
     "text": [
      "Epoch 0: 870.120 / 0.421\n"
     ]
    },
    {
     "name": "stderr",
     "output_type": "stream",
     "text": [
      "/Users/es345/anaconda3/envs/python38/lib/python3.8/site-packages/torch/nn/functional.py:1806: UserWarning: nn.functional.sigmoid is deprecated. Use torch.sigmoid instead.\n",
      "  warnings.warn(\"nn.functional.sigmoid is deprecated. Use torch.sigmoid instead.\")\n"
     ]
    },
    {
     "name": "stdout",
     "output_type": "stream",
     "text": [
      "Epoch 5: 758.256 / 0.510\n",
      "Epoch 10: 666.374 / 0.604\n",
      "Epoch 15: 590.784 / 0.673\n",
      "Epoch 20: 528.323 / 0.748\n",
      "Epoch 25: 476.378 / 0.801\n",
      "Epoch 30: 432.850 / 0.840\n",
      "Epoch 35: 396.076 / 0.870\n",
      "Epoch 40: 364.745 / 0.886\n",
      "Epoch 45: 337.837 / 0.910\n",
      "Epoch 50: 314.544 / 0.921\n",
      "Epoch 55: 294.228 / 0.931\n",
      "Epoch 60: 276.386 / 0.938\n",
      "Epoch 65: 260.615 / 0.946\n",
      "Epoch 70: 246.590 / 0.950\n",
      "Epoch 75: 234.048 / 0.957\n",
      "Epoch 80: 222.774 / 0.961\n",
      "Epoch 85: 212.591 / 0.963\n",
      "Epoch 90: 203.352 / 0.967\n",
      "Epoch 95: 194.936 / 0.969\n"
     ]
    }
   ],
   "source": [
    "num_epoch = 100\n",
    "loss_list = list()\n",
    "\n",
    "for i in range(num_epoch):\n",
    "    perm = np.random.permutation(len(data))\n",
    "    total_loss = 0\n",
    "    count = 0\n",
    "\n",
    "    for j in range(len(data)):\n",
    "\n",
    "        x = data[perm[j]][:-1]\n",
    "        y = data[perm[j]][-1]\n",
    "\n",
    "        y = y.reshape([1])\n",
    "        #logit = model.forward(x)\n",
    "        #output = F.sigmoid(logit)\n",
    "        output = model.forward(x)\n",
    "\n",
    "        #cost = loss(logit, y)\n",
    "        cost = loss(output, y)\n",
    "\n",
    "        optimizer.zero_grad()\n",
    "        cost.backward()\n",
    "        optimizer.step()\n",
    "\n",
    "        total_loss += cost.item()\n",
    "\n",
    "        pred = torch.round(output).item()\n",
    "        count += (pred == y.item())\n",
    "\n",
    "    acc = count/len(data)\n",
    "\n",
    "    loss_list.append(total_loss)\n",
    "\n",
    "    if i % 5 == 0:\n",
    "        print(\"Epoch %d: %.3f / %.3f\"%(i,total_loss,acc))"
   ]
  },
  {
   "cell_type": "code",
   "execution_count": null,
   "id": "fe3776f9",
   "metadata": {
    "id": "fe3776f9"
   },
   "outputs": [],
   "source": []
  }
 ],
 "metadata": {
  "colab": {
   "provenance": []
  },
  "kernelspec": {
   "display_name": "Python 3 (ipykernel)",
   "language": "python",
   "name": "python3"
  },
  "language_info": {
   "codemirror_mode": {
    "name": "ipython",
    "version": 3
   },
   "file_extension": ".py",
   "mimetype": "text/x-python",
   "name": "python",
   "nbconvert_exporter": "python",
   "pygments_lexer": "ipython3",
   "version": "3.9.7"
  }
 },
 "nbformat": 4,
 "nbformat_minor": 5
}
